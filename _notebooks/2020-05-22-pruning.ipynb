{
 "cells": [
  {
   "cell_type": "markdown",
   "metadata": {},
   "source": [
    "# Neural Network Pruning\n",
    "> How to make your network smaller and faster by removing useless parameters\n",
    "\n",
    "- toc: true\n",
    "- badges: false\n",
    "- categories: [Deep Learning]\n",
    "- comments: true\n",
    "- image: images/granularity.png"
   ]
  },
  {
   "cell_type": "markdown",
   "metadata": {},
   "source": [
    "## **The curse of racing for high performance**"
   ]
  },
  {
   "cell_type": "markdown",
   "metadata": {},
   "source": [
    "While deep learning models are getting better in terms of performance, they also tend to get bigger and more expensive to compute. Until recently, it can seem that state-of-the-art models were achieved by using the good ol' ***“Stack more layers !”*** property. Indeed, if you take a look at the history of state-of-the-art models on ImageNet, you will notice that each year, the new best results were achieved by using a deeper network."
   ]
  },
  {
   "cell_type": "markdown",
   "metadata": {},
   "source": [
    "It seems that we are obsessed with getting the best results as possible, leading to models that can involve hundreds of millions of parameters ! But what's the point of having a top-tier performing network if we cannot use it?\n",
    "\n",
    "\n",
    "\n",
    "<br>\n",
    "\n",
    "<p style=\"font-size: 15px\"><i>There <b>has</b> to be a better way to solve our tasks...</i></p>\n",
    "\n",
    "<br>"
   ]
  },
  {
   "cell_type": "markdown",
   "metadata": {},
   "source": [
    "After all, as the philosopher William of Occam argued in his principle named after him, the [Occam's Razor](http://math.ucr.edu/home/baez/physics/General/occam.html):\n",
    "\n",
    "> “Pluralitas non est ponenda sine necessitate.”"
   ]
  },
  {
   "cell_type": "markdown",
   "metadata": {},
   "source": [
    "Or in other words:\n",
    "\n",
    "> “Simpler solutions should be favored over more complex ones.”\n",
    "\n",
    "\n"
   ]
  },
  {
   "cell_type": "markdown",
   "metadata": {},
   "source": [
    "One of the ways to do so is to use a more parameter efficient architecture. There is a very active research going on in that field, and we can state some notable architectures that are competitive with their parameter-heavy equivalents ([SqueezeNet](https://arxiv.org/pdf/1602.07360.pdf){% fn 1 %}, [MobileNet](https://arxiv.org/pdf/1704.04861.pdf){% fn 2 %}, [Xception](https://arxiv.org/pdf/1610.02357.pdf){% fn 3 %}, [EfficientNet](https://arxiv.org/pdf/1905.11946.pdf){% fn 4 %},...). \n",
    "\n",
    "<br>"
   ]
  },
  {
   "cell_type": "markdown",
   "metadata": {},
   "source": [
    "### **Do we really need a sledgehammer to crack a nut ?**"
   ]
  },
  {
   "cell_type": "markdown",
   "metadata": {},
   "source": [
    "What if I told you that you can still use your favorite architecture, but in a more efficient way ? After all, neural networks are meant to be used either on resource-constrained environments (mobile phones, autonomous cars, drones, ...) or to run on servers, so in both case, any gain in computation or memory storage would be beneficial."
   ]
  },
  {
   "cell_type": "markdown",
   "metadata": {},
   "source": [
    "Recently, there has been a very interesting paper by [Frankle and Carbin](https://arxiv.org/pdf/1803.03635.pdf){% fn 5 %}, where they introduce the *lottery ticket hypothesis*. This hypothesis states that, in a network, only a subset of the parameters is needed to achieve an optimal performance. The whole difficulty is then to find that particular subnetwork; the authors used a pruning technique consisting of pruning the trained model, then “rewinding” the initialization of remaining weights to their original initialization. Only that subnetwork, with that specific set of initialized weights is able to achieve the same level of accuracy as the entire network.\n",
    "\n",
    "This discovery has huge implications, as it would imply that the only advantage of using parameter-heavy networks is to provide more initialization configuration and thus, more chance to get those “winning tickets”."
   ]
  },
  {
   "cell_type": "markdown",
   "metadata": {},
   "source": [
    "---"
   ]
  },
  {
   "cell_type": "markdown",
   "metadata": {},
   "source": [
    "## **Pruning**"
   ]
  },
  {
   "cell_type": "markdown",
   "metadata": {},
   "source": [
    "The [inspiration](https://en.wikipedia.org/wiki/Synaptic_pruning) behind neural network pruning is taken from how our own brain evolves during our life. Indeed, between our birth and adulthood, the amount of synapses (the structures that allows the neurons to transmit an electrical or chemical signal to another neuron) greatly varies. Our brain experience a large amount of growth during infancy, then basically follows a “use it or lose it” process. It results in a synaptic pruning which will remove any synapse that is not needed, in order to reach an optimal amount depending on our needs.\n",
    "\n",
    "!['Synapses'](images/pruning/synapses_black.svg \"Source: Rethinking the Brain: New Insights into Early Development\")\n"
   ]
  },
  {
   "cell_type": "markdown",
   "metadata": {},
   "source": [
    "In the case of neural networks, the principle of pruning is to remove network connections that are considered *unimportant* to keep the network performance unchanged. Pruning is actually a quite old idea (like most ideas of deep learning) but that is an active field of research nowadays.\n",
    "\n",
    "It dates back to 1990s namely, with most popular work at that time being [Optimal Brain Damage](https://papers.nips.cc/paper/250-optimal-brain-damage.pdf) {% fn 6 %} and  [Optimal Brain Surgeon](https://papers.nips.cc/paper/749-optimal-brain-surgeon-extensions-and-performance-comparisons.pdf) {% fn 7 %}. Pruning has been popularized by [Han et al.](https://arxiv.org/abs/1506.02626) {% fn 8 %} with their 2015 paper.\n",
    "\n",
    "!['Pruning'](images/pruning/pruning_black.svg)\n",
    "\n",
    "\n",
    "\n",
    "Pruning thus consists of inducing sparsity in the weights of the network.\n",
    "\n",
    "> “Every block of stone has a statue inside it and it is the task of the sculptor to discover it.” - **Michelangelo**\n",
    "\n",
    "As Michelangelo and his blocks of stone, we will carve our neural networks to bring their beauty out of them, or until we make them as sparse as possible while preserving their original performance.\n",
    "\n",
    "<br>"
   ]
  },
  {
   "cell_type": "markdown",
   "metadata": {},
   "source": [
    "### **Granularity**\n",
    "\n",
    "Neural network pruning can come in many fashion, represented in the image below: \n",
    "\n",
    "\n",
    "!['Synapses'](images/pruning/granularity_black.svg \"Inspired by Mao et al., Exploring the Regularity of Sparse Structure in Convolutional Neural Networks\")\n",
    "\n",
    "\n",
    "You can either be very precise and remove each weight independently or remove bigger chunks at a time. The more fine-grained (or *unstructured*) the pruning, the more precise the process will be, but the more difficult it will be to get any acceleration. On the other hand, removing bigger chunks at a time (*structured pruning*) will be less accurate, but will make life easier for any sparse matrix computation libraries. So granularity of pruning will be a trade-off between precision and acceleration. \n",
    "\n",
    "<br>\n",
    "\n",
    "<p style=\"font-size: 15px\"><i>I guess it's a matter of preference, are you more a <b>cubist</b> or <b>high renaissance</b> deep learning artist ?</i></p>\n",
    "\n",
    "<br>\n",
    "\n",
    "Apart from the granularity of pruning, you also have to choose **when** you will remove the weights.\n",
    "\n",
    "<br>"
   ]
  },
  {
   "cell_type": "markdown",
   "metadata": {},
   "source": [
    "### **Scheduling**\n",
    "\n",
    "The timing and scheduling that you will adopt to prune your network will highly impact its final performance. \n",
    "\n",
    "The three most commonly used schedulings are:\n",
    "- **One-shot Pruning**\n",
    "- **Iterative Pruning**\n",
    "- **Automated Gradual Pruning**\n",
    "\n",
    "\n",
    "The most basic idea is to start from a trained model, prune it to the desired sparsity, then optionally fine-tune the network to accommodate from the removal of some of its parameters. This technique is known as ***One-shot Pruning***. However, a simple change in that technique is able to provide way better results. The idea is simply to perform the pruning phase over several steps, all followed by some fine-tuning. That technique is called ***Iterative Pruning*** and, while leading to better results, can sometimes be very time-consuming and computationally intensive, especially if the number of parameters removed at each iteration is low. There has also been [some research](https://arxiv.org/abs/1710.01878){% fn 9 %} in incorporating weight pruning directly **inside** of the training step, periodically removing the weights. This technique is called ***Automated Gradual Pruning***."
   ]
  },
  {
   "cell_type": "markdown",
   "metadata": {},
   "source": [
    "<br>"
   ]
  },
  {
   "cell_type": "markdown",
   "metadata": {},
   "source": [
    "!['Pruning'](images/pruning/schedules_black.svg)"
   ]
  },
  {
   "cell_type": "markdown",
   "metadata": {},
   "source": [
    "<br>"
   ]
  },
  {
   "cell_type": "markdown",
   "metadata": {},
   "source": [
    "In the case of Automated Gradual Pruning, the schedule proposed by the authors is the following:"
   ]
  },
  {
   "cell_type": "markdown",
   "metadata": {},
   "source": [
    "#hide\n",
    "$$\n",
    "\\large\n",
    "s_{t}=s_{f}+\\left(s_{i}-s_{f}\\right)\\left(1-\\frac{t-t_{0}}{n \\Delta t}\\right)^{3} \\text { for } t \\in\\left\\{t_{0}, t_{0}+\\Delta t, \\ldots, t_{0}+n \\Delta t\\right\\}\n",
    "$$"
   ]
  },
  {
   "cell_type": "markdown",
   "metadata": {},
   "source": [
    "!['Pruning'](images/pruning/grad.svg)"
   ]
  },
  {
   "cell_type": "markdown",
   "metadata": {},
   "source": [
    "This schedule leads to an important pruning early in the training, then slowly decreasing as the training progresses."
   ]
  },
  {
   "cell_type": "markdown",
   "metadata": {},
   "source": [
    "<br>"
   ]
  },
  {
   "cell_type": "markdown",
   "metadata": {},
   "source": [
    "### **Criteria**\n",
    "\n",
    "Now that we know how and when to remove our parameters, we have to know **which** ones to choose.\n",
    "\n",
    "There exist many ways to evaluate weights importance, but the two most common ways are:\n",
    "\n",
    "- **Weight Magnitude Pruning**\n",
    "- **Gradient Magnitude Pruning**\n",
    "\n",
    "While being extremely simple, weight magnitude pruning has been found to be very effective. It simply consists of computing the $L1$-norm, i.e $\\sum_{i}\\left|x_{i}\\right|$, of the weights (or group/kernel/filter depending on the granularity), and to remove the ones with the lowest values. In the case of gradient magnitude pruning, the only change is that we will multiply our weights by their corresponding gradients before computing the $L1$-norm on the result."
   ]
  },
  {
   "cell_type": "markdown",
   "metadata": {},
   "source": [
    "Those criteria can be evaluated **locally**, i.e. each channel is pruned until the desired sparsity is reached, resulting in equally sparse layers, or **globally**, i.e. we evaluate the weights over the whole network, resulting in a sparse network, but with layers having different sparsity values."
   ]
  },
  {
   "cell_type": "markdown",
   "metadata": {},
   "source": [
    "<br>"
   ]
  },
  {
   "cell_type": "markdown",
   "metadata": {},
   "source": [
    "### **Evaluation**"
   ]
  },
  {
   "cell_type": "markdown",
   "metadata": {},
   "source": [
    "In order to report how well a pruning technique is doing, you need metrics to evaluate it."
   ]
  },
  {
   "cell_type": "markdown",
   "metadata": {},
   "source": [
    "To avoid any ambiguity in the metrics used, [Davis Blalock and Jose Javier Gonzalez Ortiz](https://arxiv.org/pdf/2003.03033.pdf){% fn 10 %} have proposed a [library](https://github.com/JJGO/shrinkbench/tree/master/) to unify the way we report metrics. More specifically, they propose to report: \n",
    "\n",
    "- **Compression Ratio**, which should be computed as: `Compression Ratio = total_params/nonzero_params`, with `total_params` being the original number of parameters in the network and `nonzero_params` the number of non-zero weights after pruning. \n",
    "\n",
    "- **Theoretical Speedup**, which should be computed as: `Speedup = total_flops/nonzero_flops`, with `total_flops` being the amount of FLOPs in the original model and `nonzero_flops` the amount of FLOPs of the remaining non-zero weights."
   ]
  },
  {
   "cell_type": "markdown",
   "metadata": {},
   "source": [
    "It is important to report both metrics as the speedup greatly depends on **where** in the network the pruning is performed. Indeed, for a same compression ratio, two similar architectures can have widely different speedup values. This is because the FLOPs of the convolution operation highly depend on the size of their input dimension, which varies along the network. Most of parameters are usually contained towards the end of the network while most of the computation is performed in early layers, reason why early downsampling is widely used.\n",
    "\n",
    "The graph below show how the number of parameters and FLOPs evolve in the VGG16 network:"
   ]
  },
  {
   "cell_type": "markdown",
   "metadata": {},
   "source": [
    "!['Pruning'](images/pruning/params_vgg_black.svg)"
   ]
  },
  {
   "cell_type": "markdown",
   "metadata": {},
   "source": [
    "What it shows is that, the last 3 layers hold $48\\%$ of the parameters while being only responsible of $9\\%$ of the total FLOPs in the network. For that reason, in order to see the same speedup improvement, you will need to remove a lot more parameters in late layers than you would need in early layers."
   ]
  },
  {
   "cell_type": "markdown",
   "metadata": {},
   "source": [
    "Another problem remaining is that the reported speedup is a **theoretical value**. It means that you'll never observe such a speedup in reality, especially because common deep learning libraries do not support acceleration for sparse matrices, or that it requires dedicated hardware. The easiest way to make sure that you will get an inference speed improvement is to physically remove the weights (can only be done for [entire filters](https://arxiv.org/pdf/1608.08710.pdf) {% fn 11 %}), you don't need to take care of sparse matrix computations if you don't have the matrix anymore! The way to perform that operation for a layer $i$ is the following:"
   ]
  },
  {
   "cell_type": "code",
   "execution_count": 6,
   "metadata": {},
   "outputs": [
    {
     "data": {
      "image/svg+xml": [
       "<svg data-name=\"Calque 1\" id=\"Calque_1\" viewBox=\"0 0 841.89 595.28\" xmlns=\"http://www.w3.org/2000/svg\"><defs><style>.cls-1{fill:none;}.cls-1,.cls-2{stroke:#ff9021;stroke-miterlimit:10;stroke-width:2px;}.cls-2{fill:#935c2b;}.cls-3{font-size:18.82px;font-family:MyriadPro-Regular, Myriad Pro;}.cls-3,.cls-4,.cls-6{fill:#fff;}.cls-4{font-size:20.91px;font-family:HelveticaNeue, Helvetica Neue;}.cls-5{font-family:Athelas-Italic, Athelas;font-style:italic;}</style></defs><polyline class=\"cls-1\" points=\"109.73 338.2 131.78 338.2 131.78 232.91 26.36 232.91 26.36 254.97\"/><rect class=\"cls-1\" height=\"105.28\" width=\"105.42\" x=\"5.28\" y=\"253.97\"/><polyline class=\"cls-1\" points=\"131.41 316.37 153.45 316.37 153.45 211.08 48.03 211.08 48.03 233.15\"/><polyline class=\"cls-2\" points=\"451.49 253.97 451.49 338.2 472.57 338.2 472.57 232.91 367.16 232.91 367.16 253.97 451.49 253.97\"/><rect class=\"cls-1\" height=\"105.28\" width=\"105.42\" x=\"346.07\" y=\"253.97\"/><polyline class=\"cls-1\" points=\"472.2 316.37 494.24 316.37 494.24 211.08 388.83 211.08 388.83 233.15\"/><polyline class=\"cls-1\" points=\"791.32 338.2 813.37 338.2 813.37 232.91 707.95 232.91 707.95 254.97\"/><rect class=\"cls-1\" height=\"105.28\" width=\"105.42\" x=\"686.87\" y=\"253.97\"/><polyline class=\"cls-1\" points=\"812.99 316.37 835.04 316.37 835.04 211.08 729.62 211.08 729.62 233.15\"/><polyline class=\"cls-1\" points=\"270.54 172.07 279.36 172.07 279.36 129.96 237.19 129.96 237.19 138.78\"/><rect class=\"cls-1\" height=\"42.11\" width=\"42.17\" x=\"228.76\" y=\"138.38\"/><polyline class=\"cls-1\" points=\"279.21 163.34 288.03 163.34 288.03 121.23 245.86 121.23 245.86 130.05\"/><polyline class=\"cls-2\" points=\"279.52 226.06 279.52 260.14 288.03 260.14 288.03 217.54 245.48 217.54 245.48 226.06 279.52 226.06\"/><polyline class=\"cls-2\" points=\"271.31 234.2 271.31 268.29 279.82 268.29 279.82 225.68 237.27 225.68 237.27 234.2 271.31 234.2\"/><rect class=\"cls-2\" height=\"42.6\" width=\"42.55\" x=\"228.76\" y=\"234.2\"/><polyline class=\"cls-1\" points=\"270.54 446.19 279.36 446.19 279.36 404.07 237.19 404.07 237.19 412.9\"/><rect class=\"cls-1\" height=\"42.11\" width=\"42.17\" x=\"228.76\" y=\"412.5\"/><polyline class=\"cls-1\" points=\"279.21 437.46 288.03 437.46 288.03 395.34 245.86 395.34 245.86 404.17\"/><polyline class=\"cls-1\" points=\"609.54 226.06 609.54 260.14 618.05 260.14 618.05 217.54 575.5 217.54 575.5 226.06 609.54 226.06\"/><polyline class=\"cls-2\" points=\"601.33 234.2 601.33 268.29 609.84 268.29 609.84 225.68 567.29 225.68 567.29 234.2 601.33 234.2\"/><rect class=\"cls-1\" height=\"42.6\" width=\"42.55\" x=\"558.78\" y=\"234.2\"/><polyline class=\"cls-1\" points=\"607.35 403.86 607.35 437.95 615.86 437.95 615.86 395.34 573.3 395.34 573.3 403.86 607.35 403.86\"/><polyline class=\"cls-2\" points=\"599.14 412.01 599.14 446.09 607.65 446.09 607.65 403.49 565.1 403.49 565.1 412.01 599.14 412.01\"/><rect class=\"cls-1\" height=\"42.6\" width=\"42.55\" x=\"556.59\" y=\"412.01\"/><polyline class=\"cls-1\" points=\"613.49 129.75 613.49 163.83 622 163.83 622 121.23 579.45 121.23 579.45 129.75 613.49 129.75\"/><polyline class=\"cls-2\" points=\"605.28 137.89 605.28 171.97 613.79 171.97 613.79 129.37 571.24 129.37 571.24 137.89 605.28 137.89\"/><rect class=\"cls-1\" height=\"42.6\" width=\"42.55\" x=\"562.73\" y=\"137.89\"/><text class=\"cls-3\" transform=\"translate(258.28 321.59)\">.<tspan x=\"0\" y=\"22.58\">.</tspan><tspan x=\"0\" y=\"45.16\">.</tspan></text><text class=\"cls-3\" transform=\"translate(584.01 321.59)\">.<tspan x=\"0\" y=\"22.58\">.</tspan><tspan x=\"0\" y=\"45.16\">.</tspan></text><text class=\"cls-4\" transform=\"translate(29.68 400.46)\">Layer <tspan class=\"cls-5\" x=\"57.31\" y=\"0\">i</tspan></text><path class=\"cls-6\" d=\"M379,380.41v13.26h7.91v1.67H377V380.41Z\"/><path class=\"cls-6\" d=\"M398,395.3a2.56,2.56,0,0,1-1.28.27,1.52,1.52,0,0,1-1.1-.39,1.66,1.66,0,0,1-.41-1.26,4.05,4.05,0,0,1-1.7,1.26,5.6,5.6,0,0,1-2.1.39,5.24,5.24,0,0,1-1.39-.17,3.14,3.14,0,0,1-1.14-.52,2.48,2.48,0,0,1-.76-.93,3.1,3.1,0,0,1-.29-1.39,3.15,3.15,0,0,1,.32-1.5,2.83,2.83,0,0,1,.82-1,4.07,4.07,0,0,1,1.17-.55,12,12,0,0,1,1.35-.31c.49-.1.95-.17,1.39-.22a7.84,7.84,0,0,0,1.16-.21,2,2,0,0,0,.8-.4,1,1,0,0,0,.29-.76,1.72,1.72,0,0,0-.22-.94,1.48,1.48,0,0,0-.56-.55,2.38,2.38,0,0,0-.78-.25,5.93,5.93,0,0,0-.84-.06,3.75,3.75,0,0,0-1.89.43,1.8,1.8,0,0,0-.81,1.62H388.2a3.86,3.86,0,0,1,.42-1.69,3.19,3.19,0,0,1,1-1.12,4.06,4.06,0,0,1,1.44-.62,7.25,7.25,0,0,1,1.72-.19,10,10,0,0,1,1.45.11,3.88,3.88,0,0,1,1.31.42,2.56,2.56,0,0,1,.94.91,2.87,2.87,0,0,1,.36,1.52v5.55a4.09,4.09,0,0,0,.07.92c0,.2.21.29.49.29a1.74,1.74,0,0,0,.55-.1Zm-2.89-5.56a2.09,2.09,0,0,1-.88.36c-.36.08-.74.14-1.14.19l-1.2.17a4.34,4.34,0,0,0-1.09.3,2,2,0,0,0-.78.6,1.69,1.69,0,0,0-.3,1.06,1.53,1.53,0,0,0,.17.74,1.66,1.66,0,0,0,.46.49,2.18,2.18,0,0,0,.66.27,3.45,3.45,0,0,0,.8.08,4.21,4.21,0,0,0,1.5-.24,3.29,3.29,0,0,0,1-.6,2.4,2.4,0,0,0,.58-.8,1.9,1.9,0,0,0,.19-.8Z\"/><path class=\"cls-6\" d=\"M403.84,396.78a10.13,10.13,0,0,1-.62,1.34,3.55,3.55,0,0,1-.66.89,2.27,2.27,0,0,1-.82.5,3,3,0,0,1-1,.16,4.44,4.44,0,0,1-.63,0,3.2,3.2,0,0,1-.61-.15v-1.63a3,3,0,0,0,.53.18,2.26,2.26,0,0,0,.52.07,1.57,1.57,0,0,0,.91-.26,1.62,1.62,0,0,0,.55-.74l.73-1.82-4.28-10.75h2l3.16,8.85h0l3-8.85h1.89Z\"/><path class=\"cls-6\" d=\"M417.7,394.65a4.83,4.83,0,0,1-3.05.92,5.58,5.58,0,0,1-2.25-.42,4.45,4.45,0,0,1-1.6-1.17,5,5,0,0,1-1-1.8,8.5,8.5,0,0,1-.36-2.27,6.49,6.49,0,0,1,.37-2.26,5.37,5.37,0,0,1,1.06-1.78,4.8,4.8,0,0,1,1.61-1.17,4.9,4.9,0,0,1,2-.42,4.39,4.39,0,0,1,2.39.6,4.7,4.7,0,0,1,1.53,1.51,6,6,0,0,1,.79,2,8.33,8.33,0,0,1,.18,2.07h-8.09a4,4,0,0,0,.17,1.35,3,3,0,0,0,.6,1.13,2.94,2.94,0,0,0,1.07.78,3.59,3.59,0,0,0,1.52.29,3,3,0,0,0,1.85-.52,2.53,2.53,0,0,0,1-1.59h1.75A4.26,4.26,0,0,1,417.7,394.65Zm-.42-6.94a3,3,0,0,0-.65-1,3.19,3.19,0,0,0-1-.65,3.3,3.3,0,0,0-2.47,0,2.79,2.79,0,0,0-.95.66,3,3,0,0,0-.63,1,3.84,3.84,0,0,0-.27,1.18h6.21A3.7,3.7,0,0,0,417.28,387.71Z\"/><path class=\"cls-6\" d=\"M422.89,384.53v2.28h0a4.76,4.76,0,0,1,1.59-1.94,4,4,0,0,1,2.38-.59v1.88a5,5,0,0,0-1.82.3,2.89,2.89,0,0,0-1.21.85,3.58,3.58,0,0,0-.67,1.37,7.41,7.41,0,0,0-.21,1.85v4.81h-1.77V384.53Z\"/><path class=\"cls-6\" d=\"M435.22,393.63c0,.05,0,.13,0,.22s0,.15,0,.2a.23.23,0,0,0,.25.25.75.75,0,0,0,.31-.08l.31-.16.28-.17a.43.43,0,0,1,.21-.07c.14,0,.24.14.29.41a6,6,0,0,1-.76.52q-.41.24-.78.42a5.91,5.91,0,0,1-.71.31,2,2,0,0,1-.55.11,1.12,1.12,0,0,1-.44-.09q-.21-.09-.21-.45s0-.12,0-.22a1,1,0,0,1,.05-.22c.3-1.49.55-2.68.73-3.57s.32-1.56.41-2,.15-.78.17-.93.05-.25.05-.28-.07-.25-.19-.25a.69.69,0,0,0-.25.08l-.36.14-.34.15a.64.64,0,0,1-.24.07.2.2,0,0,1-.19-.12,1.72,1.72,0,0,1-.11-.3l.88-.47,1-.49c.32-.15.6-.28.84-.37a1.68,1.68,0,0,1,.49-.15.32.32,0,0,1,.36.36,1.24,1.24,0,0,1,0,.31Zm1.07-9.77a.85.85,0,0,1-.63-.24.9.9,0,0,1-.23-.64,1.51,1.51,0,0,1,.39-1,1.19,1.19,0,0,1,.93-.45.67.67,0,0,1,.6.27,1.31,1.31,0,0,1,.17.69,1.42,1.42,0,0,1-.35.95A1.09,1.09,0,0,1,436.29,383.86Z\"/><path class=\"cls-6\" d=\"M438.11,391.2a2.1,2.1,0,0,1,.26-.9.7.7,0,0,1,.58-.23H442V387a.61.61,0,0,1,.21-.49,1.89,1.89,0,0,1,.94-.26v3.84h4a1.76,1.76,0,0,1-.27.9.71.71,0,0,1-.58.23h-3.18v3.37a.58.58,0,0,1-.21.51,2.2,2.2,0,0,1-.94.24V391.2Z\"/><path class=\"cls-6\" d=\"M457.47,394.61v.73h-7.71v-.73l3-.5h1.67Zm-3.24-13,.29.21-.08,3v6.08c0,1.46,0,2.95.06,4.41h-1.8c.05-1.46.07-2.95.07-4.41v-7.57l-2.81.23v-.83Z\"/><path class=\"cls-6\" d=\"M718.32,380.41v13.26h7.9v1.67h-9.89V380.41Z\"/><path class=\"cls-6\" d=\"M737.24,395.3a2.54,2.54,0,0,1-1.28.27,1.54,1.54,0,0,1-1.09-.38,1.66,1.66,0,0,1-.41-1.27,4.26,4.26,0,0,1-1.71,1.27,6,6,0,0,1-3.49.22,3.33,3.33,0,0,1-1.14-.53,2.42,2.42,0,0,1-.76-.93,3.08,3.08,0,0,1-.28-1.39,3.15,3.15,0,0,1,.31-1.5,2.73,2.73,0,0,1,.83-.95,3.73,3.73,0,0,1,1.17-.56c.44-.12.89-.23,1.35-.31s1-.17,1.39-.22a8.09,8.09,0,0,0,1.16-.21,1.84,1.84,0,0,0,.79-.4,1,1,0,0,0,.3-.76,1.81,1.81,0,0,0-.22-.94,1.58,1.58,0,0,0-.57-.55,2.68,2.68,0,0,0-.77-.25,6.18,6.18,0,0,0-.85-.06,3.71,3.71,0,0,0-1.88.43,1.83,1.83,0,0,0-.82,1.62H727.5a3.73,3.73,0,0,1,.41-1.69,3.21,3.21,0,0,1,1-1.12,4.2,4.2,0,0,1,1.43-.62,7.34,7.34,0,0,1,1.73-.19,10.11,10.11,0,0,1,1.45.11,3.89,3.89,0,0,1,1.3.42,2.59,2.59,0,0,1,.95.91,3,3,0,0,1,.35,1.52v5.55a4.79,4.79,0,0,0,.07.92c0,.2.22.29.5.29a1.73,1.73,0,0,0,.54-.1Zm-2.89-5.56a2.18,2.18,0,0,1-.87.37c-.37.07-.75.14-1.14.18l-1.21.17a4.26,4.26,0,0,0-1.08.3,2,2,0,0,0-.79.6,1.69,1.69,0,0,0-.3,1.06,1.42,1.42,0,0,0,.18.74,1.54,1.54,0,0,0,.46.49,1.87,1.87,0,0,0,.66.27,3.36,3.36,0,0,0,.79.08,4.23,4.23,0,0,0,1.51-.24,3.24,3.24,0,0,0,1-.6,2.59,2.59,0,0,0,.59-.8,2,2,0,0,0,.18-.8Z\"/><path class=\"cls-6\" d=\"M743.14,396.79a11.37,11.37,0,0,1-.62,1.33,3.57,3.57,0,0,1-.67.89,2.19,2.19,0,0,1-.82.5,3,3,0,0,1-1,.16,4.44,4.44,0,0,1-.63,0,2.93,2.93,0,0,1-.6-.15v-1.63a3,3,0,0,0,.53.18,2.12,2.12,0,0,0,.51.07,1.48,1.48,0,0,0,.91-.26,1.56,1.56,0,0,0,.55-.74l.74-1.82-4.29-10.75h2l3.15,8.85h0l3-8.85h1.88Z\"/><path class=\"cls-6\" d=\"M757,394.65a4.87,4.87,0,0,1-3,.92,5.51,5.51,0,0,1-2.25-.42,4.18,4.18,0,0,1-1.6-1.17,5.09,5.09,0,0,1-1-1.79,9.07,9.07,0,0,1-.36-2.28,6.27,6.27,0,0,1,.38-2.26,5.45,5.45,0,0,1,1.05-1.78,4.8,4.8,0,0,1,1.61-1.17,4.9,4.9,0,0,1,2-.42,4.39,4.39,0,0,1,2.39.6,4.7,4.7,0,0,1,1.53,1.51,6.27,6.27,0,0,1,.8,2,8.85,8.85,0,0,1,.17,2.07h-8.09a4.28,4.28,0,0,0,.17,1.35,3,3,0,0,0,.61,1.13,2.82,2.82,0,0,0,1.06.78,3.6,3.6,0,0,0,1.53.3,3.07,3.07,0,0,0,1.85-.53,2.52,2.52,0,0,0,.95-1.59h1.76A4.3,4.3,0,0,1,757,394.65Zm-.43-6.94a3,3,0,0,0-.65-1,3,3,0,0,0-2.18-.89,3.13,3.13,0,0,0-1.25.24,2.79,2.79,0,0,0-1,.66,3.38,3.38,0,0,0-.63,1,3.84,3.84,0,0,0-.27,1.18h6.21A3.7,3.7,0,0,0,756.57,387.71Z\"/><path class=\"cls-6\" d=\"M762.18,384.53v2.28h0a4.92,4.92,0,0,1,1.59-1.94,4,4,0,0,1,2.39-.59v1.88a4.92,4.92,0,0,0-1.82.3,2.83,2.83,0,0,0-1.21.85,3.58,3.58,0,0,0-.67,1.37,7.41,7.41,0,0,0-.21,1.85v4.81h-1.78V384.53Z\"/><path class=\"cls-6\" d=\"M774.52,393.63a1,1,0,0,0,0,.22.83.83,0,0,0,0,.2.22.22,0,0,0,.25.25.71.71,0,0,0,.3-.08,2.29,2.29,0,0,0,.31-.16l.29-.17a.4.4,0,0,1,.21-.07c.13,0,.23.14.29.41a6.1,6.1,0,0,1-.77.52c-.27.16-.53.3-.78.43s-.49.22-.71.3a1.9,1.9,0,0,1-.54.11,1.08,1.08,0,0,1-.44-.09q-.21-.09-.21-.45s0-.12,0-.22a1.49,1.49,0,0,1,0-.22c.31-1.49.55-2.68.73-3.56s.32-1.56.41-2l.18-.93a2.3,2.3,0,0,0,0-.27c0-.17-.06-.26-.19-.26a.76.76,0,0,0-.25.08l-.35.14-.35.15a.6.6,0,0,1-.24.07.21.21,0,0,1-.19-.12,1.24,1.24,0,0,1-.1-.29c.25-.14.54-.3.88-.47l1-.5c.31-.15.59-.27.83-.37a1.77,1.77,0,0,1,.49-.15.32.32,0,0,1,.36.36,1.2,1.2,0,0,1,0,.31Zm1.06-9.77a.81.81,0,0,1-.62-.24.85.85,0,0,1-.23-.63,1.56,1.56,0,0,1,.38-1,1.19,1.19,0,0,1,.93-.45.67.67,0,0,1,.6.27,1.27,1.27,0,0,1,.18.69,1.47,1.47,0,0,1-.36,1A1.1,1.1,0,0,1,775.58,383.86Z\"/><path class=\"cls-6\" d=\"M777.4,391.2a2.08,2.08,0,0,1,.27-.9.68.68,0,0,1,.57-.23h3V387a.61.61,0,0,1,.21-.49,1.93,1.93,0,0,1,.94-.26v3.84h4a2,2,0,0,1-.27.9.7.7,0,0,1-.59.23h-3.18v3.37a.58.58,0,0,1-.21.51,2.06,2.06,0,0,1-.94.24V391.2Z\"/><path class=\"cls-6\" d=\"M788.53,394c1.1-1.08,2.19-2.21,3.09-3.15,2.09-2.2,3-3.93,3-5.56a2.5,2.5,0,0,0-2.53-2.8A5.35,5.35,0,0,0,790,383l1.17-.76-.5,1.84c-.27,1-.61,1.4-1.19,1.4a1.17,1.17,0,0,1-1.05-.67c.23-2.19,2.09-3.21,4.18-3.21,2.68,0,3.85,1.46,3.85,3.55,0,1.82-.9,3.24-4.1,6.38-.67.66-1.67,1.63-2.72,2.61l-.25-.42h7.68v1.67h-8.53Z\"/></svg>"
      ],
      "text/plain": [
       "<IPython.core.display.SVG object>"
      ]
     },
     "metadata": {},
     "output_type": "display_data"
    }
   ],
   "source": [
    "#hide_input\n",
    "from IPython.display import SVG, display\n",
    "display(SVG(data='images/pruning/filter_pruning.svg'))"
   ]
  },
  {
   "cell_type": "markdown",
   "metadata": {},
   "source": [
    "As you remove a whole filter, it's not really introducing sparsity in the network as you now change a hyperparameter (number of filters in a layer). Moreover, if you decide to prune a single filter in layer $i$, it means that the corresponding feature map won't exist anymore. Thus, in the layer $i+1$, the kernels corresponding to the deleted feature maps have to be removed. So, pruning a filter saves parameters and computations both in the current layer and in the following one!\n",
    "\n",
    "<br>"
   ]
  },
  {
   "cell_type": "markdown",
   "metadata": {},
   "source": [
    "**That's all! Thank you for reading, I hope that you found this little tour over neural network pruning interesting and, more importantly, useful.**\n",
    "\n",
    "<br>"
   ]
  },
  {
   "cell_type": "markdown",
   "metadata": {},
   "source": [
    "---"
   ]
  },
  {
   "cell_type": "markdown",
   "metadata": {},
   "source": [
    "<br>"
   ]
  },
  {
   "cell_type": "markdown",
   "metadata": {},
   "source": [
    "<p style=\"font-size: 15px\"><i>If you notice any mistake or improvement that can be done, please contact me ! If you found that post useful, please consider citing it as:</i></p>"
   ]
  },
  {
   "cell_type": "markdown",
   "metadata": {},
   "source": [
    "```\n",
    "@article{hubens2020pruning,\n",
    "  title   = \"Neural Network Pruning\",\n",
    "  author  = \"Hubens, Nathan\",\n",
    "  journal = \"nathanhubens.github.io\",\n",
    "  year    = \"2020\",\n",
    "  url     = \"https://nathanhubens.github.io/posts/deep%20learning/2020/05/22/pruning.html\"\n",
    "}\n",
    "```"
   ]
  },
  {
   "cell_type": "markdown",
   "metadata": {},
   "source": [
    "<br>"
   ]
  },
  {
   "cell_type": "markdown",
   "metadata": {},
   "source": [
    "## **References**"
   ]
  },
  {
   "cell_type": "markdown",
   "metadata": {},
   "source": [
    "- {{'[Howard A. et al., SqueezeNet: AlexNet-level accuracy with 50x fewer parameters and <1MB model size. ICLR, 2017](http://arxiv.org/abs/1803.03635)' | fndetail: 1}}\n",
    "\n",
    "- {{'[Forrest N. Iandola et al., MobileNets: Efficient Convolutional Neural Networks for Mobile Vision Applications. CoRR, abs/1704.04861, 2017](http://arxiv.org/abs/1704.04861)' | fndetail: 2}}\n",
    "\n",
    "- {{'[Chollet F., Xception: Deep Learning with Depthwise Separable Convolutions. CVPR, 2017](https://doi.org/10.1109/CVPR.2017.195)' | fndetail: 3}}\n",
    "\n",
    "- {{'[Mingxing T. and Quoc V. Le, EfficientNet: Rethinking Model Scaling for Convolutional Neural Networks. ICML, 2019](http://proceedings.mlr.press/v97/tan19a.html)' | fndetail: 4}}\n",
    "\n",
    "- {{'[Frankle, J. & Carbin, M., The Lottery Ticket Hypothesis: Finding Sparse, Trainable Neural Networks. ICLR, 2019](http://arxiv.org/abs/1803.03635)' | fndetail: 5}}\n",
    "\n",
    "- {{'[LeCun Y. and Denker J. and Solla S., Optimal Brain Damage, NeurIPS, 1990](http://papers.nips.cc/paper/250-optimal-brain-damage.pdf)' | fndetail: 6}}\n",
    "\n",
    "- {{'[Hassibi, Babak and David G. Stork and Wolff, Gregory, Optimal Brain Surgeon: Extensions and performance comparisons, NeurIPS, 1993](http://papers.nips.cc/paper/749-optimal-brain-surgeon-extensions-and-performance-comparisons.pdf)' | fndetail: 7}}\n",
    "\n",
    "- {{'[Han S. et al., Learning both Weights and Connections for Efficient Neural Networks, NeurIPS, 2015](http://arxiv.org/abs/1506.02626)' | fndetail: 8}}\n",
    "\n",
    "- {{'[Zhu, M. & Gupta, S. To prune, or not to prune: exploring the efficacy of pruning for model compression. ICLR, 2018](https://arxiv.org/abs/1710.01878)' | fndetail: 9}}\n",
    "\n",
    "- {{'[Blalock D.,Gonzalez Ortiz J.,Frankle J., and Guttag J., What is the state of neural network pruning?. MLSys, 2020](http://arxiv.org/abs/1803.03635)' | fndetail: 10}}\n",
    "\n",
    "- {{'[Hao Li et al., Pruning Filters for Efficient ConvNets, ICLR, 2017](https://arxiv.org/pdf/1608.08710.pdf)' | fndetail: 11}}"
   ]
  },
  {
   "cell_type": "code",
   "execution_count": null,
   "metadata": {},
   "outputs": [],
   "source": []
  }
 ],
 "metadata": {
  "kernelspec": {
   "display_name": "Python 3",
   "language": "python",
   "name": "python3"
  },
  "language_info": {
   "codemirror_mode": {
    "name": "ipython",
    "version": 3
   },
   "file_extension": ".py",
   "mimetype": "text/x-python",
   "name": "python",
   "nbconvert_exporter": "python",
   "pygments_lexer": "ipython3",
   "version": "3.6.10"
  }
 },
 "nbformat": 4,
 "nbformat_minor": 4
}
